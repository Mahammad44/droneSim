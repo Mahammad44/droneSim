{
 "cells": [
  {
   "cell_type": "code",
   "execution_count": null,
   "id": "55f9328d-d8c8-4221-a764-35ee8a20deac",
   "metadata": {},
   "outputs": [],
   "source": [
    "%matplotlib inline\n",
    "import pandas as pd\n",
    "import matplotlib.pyplot as plt\n"
   ]
  },
  {
   "cell_type": "code",
   "execution_count": null,
   "id": "97e2b0f1-43d8-4832-8dc9-7c16bd293649",
   "metadata": {},
   "outputs": [],
   "source": [
    "df = pd.read_csv(\"telemetry.csv\")\n",
    "print(\"Rows:\", len(df))\n",
    "display(df.head())\n"
   ]
  },
  {
   "cell_type": "code",
   "execution_count": null,
   "id": "8b40ecb1-7be7-4c77-ad1a-b964c470909e",
   "metadata": {},
   "outputs": [],
   "source": []
  }
 ],
 "metadata": {
  "kernelspec": {
   "display_name": "Python 3 (ipykernel)",
   "language": "python",
   "name": "python3"
  },
  "language_info": {
   "codemirror_mode": {
    "name": "ipython",
    "version": 3
   },
   "file_extension": ".py",
   "mimetype": "text/x-python",
   "name": "python",
   "nbconvert_exporter": "python",
   "pygments_lexer": "ipython3",
   "version": "3.11.9"
  }
 },
 "nbformat": 4,
 "nbformat_minor": 5
}
