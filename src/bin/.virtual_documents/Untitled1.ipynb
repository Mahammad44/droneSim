# drone_flight_visualizer.py
import pandas as pd
import folium
from folium.plugins import TimestampedGeoJson
from IPython.display import display

# Load and validate data
try:
    df = pd.read_csv("telemetry.csv", skiprows=[1])  # Skip duplicate header
    print("✅ CSV loaded successfully. Rows:", len(df))
except Exception as e:
    print(f"❌ File loading failed: {e}")
    raise

# Data cleaning and conversion
try:
    # Convert timestamp from Unix milliseconds
    df['timestamp'] = pd.to_datetime(df['timestamp'], unit='ms')
    df["latitude"] = pd.to_numeric(df["latitude"])
    df["longitude"] = pd.to_numeric(df["longitude"])
    
    # Validate coordinates
    valid_coords = df[
        df['latitude'].between(-90, 90) & 
        df['longitude'].between(-180, 180)
    ]
    
    if len(valid_coords) < len(df):
        print(f"⚠️ Removed {len(df)-len(valid_coords)} invalid coordinates")
        df = valid_coords.copy()
    
    print("\n🔍 First 3 valid rows:")
    print(df[['timestamp', 'latitude', 'longitude']].head(3))
except Exception as e:
    print("❌ Data conversion failed:", e)
    raise

# Create base map with satellite imagery
try:
    start_point = [df['latitude'].iloc[0], df['longitude'].iloc[0]]
    m = folium.Map(
        location=start_point,
        zoom_start=19,
        tiles='https://server.arcgisonline.com/ArcGIS/rest/services/World_Imagery/MapServer/tile/{z}/{y}/{x}',
        attr='Esri Satellite',
        control_scale=True
    )
    print(f"\n🗺️ Map created at {start_point}")
except Exception as e:
    print("❌ Map creation failed:", e)
    raise

# Create animation features
features = []
for idx, row in df.iterrows():
    try:
        features.append({
            "type": "Feature",
            "geometry": {
                "type": "Point",
                "coordinates": [row["longitude"], row["latitude"]],
            },
            "properties": {
                "time": [row["timestamp"].isoformat()],
                "icon": "circle",
                "iconstyle": {
                    "fillColor": "#FF0000",
                    "fillOpacity": 0.8,
                    "stroke": "true",
                    "radius": 7
                }
            }
        })
    except Exception as e:
        print(f"❌ Error in row {idx}:", e)
        continue

print(f"\n📌 Created {len(features)} animation points")

# Add animated track
try:
    TimestampedGeoJson(
        {"type": "FeatureCollection", "features": features},
        period='PT0.05S',  # 50ms between updates
        add_last_point=True,
        auto_play=True,
        loop=False,
        max_speed=30,
        transition_time=50,
        time_slider_drag_update=True,
        date_options="YYYY-MM-DD HH:mm:ss.SSS"
    ).add_to(m)
except Exception as e:
    print("❌ Animation setup failed:", e)
    raise

# Add informational markers
try:
    for idx in [0, len(df)//2, -1]:  # Start, middle, end markers
        row = df.iloc[idx]
        folium.Marker(
            location=[row['latitude'], row['longitude']],
            popup=(
                f"<b>Time:</b> {row['timestamp']}<br>"
                f"<b>Alt:</b> {row['altitude']:.1f}m<br>"
                f"<b>Speed:</b> {row['speed']:.1f}m/s"
            ),
            icon=folium.Icon(color='blue', prefix='fa', icon='plane')
        ).add_to(m)
    print("📌 Added 3 informational markers")
except Exception as e:
    print("❌ Marker creation failed:", e)

# Final output
print("\n🚀 Rendering map...")
display(m)
print("\n💾 To save map: m.save('drone_flight.html')")


m.save('drone_flight.html')



