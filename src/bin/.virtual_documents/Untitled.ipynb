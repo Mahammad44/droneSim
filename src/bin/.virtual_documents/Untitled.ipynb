%matplotlib inline
import pandas as pd
import matplotlib.pyplot as plt



df = pd.read_csv("telemetry.csv")
print("Rows:", len(df))
display(df.head())




